{
 "cells": [
  {
   "cell_type": "markdown",
   "metadata": {},
   "source": [
    "# Fifteen minutes to `fiftyone`\n",
    "\n",
    "### Two sentence summary:\n",
    "> \"`Dataset`s are composed of samples which contain fields, all of which can\n",
    "be dynamically created, modified and deleted. `DatasetView`s allow one to\n",
    "easily view and manipulate subsets of `Dataset`s.\"\n",
    "\n",
    "### Core Concepts\n",
    "\n",
    "The fundamental `fiftyone` object that a user interacts with is the\n",
    "`DatasetView`. Users are constantly creating and chaining commands on views.\n",
    "Any method on a `DatasetView` is also available on a `Dataset`. If appropriate,\n",
    "the dataset creates a default view and calls the method on that view.\n",
    "\n",
    "Samples are the building blocks that `Dataset`s are composed of. Samples\n",
    "can have dynamically added fields on them. Fields can be of special types,\n",
    "like the `fiftyone.core.labels.Labels` class, or they can be primitive serializable types\n",
    "like dicts, lists, strings, scalars, etc."
   ]
  },
  {
   "cell_type": "markdown",
   "metadata": {},
   "source": [
    "## Setup\n",
    "\n",
    "Don't worry about the details of this code now. We are just creating a dataset so that we can explore it.\n",
    "We will discuss the details of creating datasets soon."
   ]
  },
  {
   "cell_type": "code",
   "execution_count": 1,
   "metadata": {},
   "outputs": [],
   "source": [
    "import fiftyone as fo\n",
    "\n",
    "dataset = fo.Dataset(\"fiftyone_in_fifteen\")\n",
    "sample_id = dataset.add_sample(filepath=\"/path/to/img1.jpg\", tags=[\"train\"])\n",
    "dataset.add_sample(\n",
    "    filepath=\"/path/to/img2.jpg\",\n",
    "    tags=[\"train\"],\n",
    "    metadata=fo.Metadata(size_bytes=1024, mime_type=\".jpg\"),\n",
    ")\n",
    "dataset.add_sample(filepath=\"/path/to/img3.jpg\", tags=[\"test\"])\n",
    "sample = dataset[sample_id]"
   ]
  },
  {
   "cell_type": "markdown",
   "metadata": {},
   "source": [
    "## Exploring a Dataset\n",
    "\n",
    "To start, there are some basic things we can inquire on any dataset."
   ]
  },
  {
   "cell_type": "code",
   "execution_count": 2,
   "metadata": {},
   "outputs": [
    {
     "data": {
      "text/plain": [
       "3"
      ]
     },
     "execution_count": 2,
     "metadata": {},
     "output_type": "execute_result"
    }
   ],
   "source": [
    "len(dataset)"
   ]
  },
  {
   "cell_type": "markdown",
   "metadata": {},
   "source": [
    "Every dataset has \"sample fields\", which are the accessible fields on any sample of the dataset. There are some fields that come default on every dataset."
   ]
  },
  {
   "cell_type": "code",
   "execution_count": 3,
   "metadata": {},
   "outputs": [
    {
     "data": {
      "text/plain": [
       "OrderedDict([('id', <mongoengine.base.fields.ObjectIdField at 0x10e84ffd0>),\n",
       "             ('filepath', <mongoengine.fields.StringField at 0x11a8e64e0>),\n",
       "             ('tags', <mongoengine.fields.ListField at 0x11a8e6588>),\n",
       "             ('metadata',\n",
       "              <mongoengine.fields.EmbeddedDocumentField at 0x11a8e6780>)])"
      ]
     },
     "execution_count": 3,
     "metadata": {},
     "output_type": "execute_result"
    }
   ],
   "source": [
    "dataset.get_sample_fields()"
   ]
  },
  {
   "cell_type": "markdown",
   "metadata": {},
   "source": [
    "Fields are available for python primitives (`bool`, `int`, `str`, `list`, `dict`) as well as more semantically meaningful structures for samples such as metadata and labels.\n",
    "\n",
    "We can filter by a particular `field_type` to see all fields of that type."
   ]
  },
  {
   "cell_type": "code",
   "execution_count": 4,
   "metadata": {},
   "outputs": [
    {
     "data": {
      "text/plain": [
       "OrderedDict([('metadata',\n",
       "              <mongoengine.fields.EmbeddedDocumentField at 0x11a8e6780>)])"
      ]
     },
     "execution_count": 4,
     "metadata": {},
     "output_type": "execute_result"
    }
   ],
   "source": [
    "dataset.get_sample_fields(field_type=fo.Metadata)"
   ]
  },
  {
   "cell_type": "markdown",
   "metadata": {},
   "source": [
    "A useful helper is `summary()` which succinctly summarizes basic information about a dataset."
   ]
  },
  {
   "cell_type": "code",
   "execution_count": 5,
   "metadata": {},
   "outputs": [
    {
     "name": "stdout",
     "output_type": "stream",
     "text": [
      "Name:           fiftyone_in_fifteen\n",
      "Num samples:    3\n",
      "Tags:           ['test', 'train']\n",
      "Sample Fields:\n",
      "\tid      : <class 'mongoengine.base.fields.ObjectIdField'>\n",
      "\tfilepath: <class 'mongoengine.fields.StringField'>\n",
      "\ttags    : <class 'mongoengine.fields.ListField'>\n",
      "\tmetadata: <class 'mongoengine.fields.EmbeddedDocumentField'>\n"
     ]
    }
   ],
   "source": [
    "print(dataset.summary())"
   ]
  },
  {
   "cell_type": "markdown",
   "metadata": {},
   "source": [
    "## Basics with `DatasetView`s"
   ]
  },
  {
   "cell_type": "markdown",
   "metadata": {},
   "source": [
    "The easiest way to access samples on a dataset is through a `DatasetView`\n",
    "\n",
    "The default view on a dataset is easily accessible via:"
   ]
  },
  {
   "cell_type": "code",
   "execution_count": 6,
   "metadata": {},
   "outputs": [
    {
     "data": {
      "text/plain": [
       "<fiftyone.core.view.DatasetView at 0x122910e48>"
      ]
     },
     "execution_count": 6,
     "metadata": {},
     "output_type": "execute_result"
    }
   ],
   "source": [
    "view = dataset.view()\n",
    "view"
   ]
  },
  {
   "cell_type": "markdown",
   "metadata": {},
   "source": [
    "Basic exploratory commands are also available on views"
   ]
  },
  {
   "cell_type": "code",
   "execution_count": 7,
   "metadata": {},
   "outputs": [
    {
     "data": {
      "text/plain": [
       "3"
      ]
     },
     "execution_count": 7,
     "metadata": {},
     "output_type": "execute_result"
    }
   ],
   "source": [
    "len(view)"
   ]
  },
  {
   "cell_type": "code",
   "execution_count": 8,
   "metadata": {},
   "outputs": [
    {
     "name": "stdout",
     "output_type": "stream",
     "text": [
      "Dataset:        fiftyone_in_fifteen\n",
      "Num samples:    3\n",
      "Tags:           ['train', 'test']\n",
      "Sample Fields:\n",
      "\tid      : <class 'mongoengine.base.fields.ObjectIdField'>\n",
      "\tfilepath: <class 'mongoengine.fields.StringField'>\n",
      "\ttags    : <class 'mongoengine.fields.ListField'>\n",
      "\tmetadata: <class 'mongoengine.fields.EmbeddedDocumentField'>\n",
      "Pipeline stages:\n",
      "\t\n"
     ]
    }
   ],
   "source": [
    "print(view.summary())"
   ]
  },
  {
   "cell_type": "markdown",
   "metadata": {},
   "source": [
    "Use `first()` to get a single sample from the view."
   ]
  },
  {
   "cell_type": "code",
   "execution_count": 9,
   "metadata": {},
   "outputs": [
    {
     "data": {
      "text/plain": [
       "<fiftyone_in_fifteen: {\n",
       "    \"_id\": {\n",
       "        \"$oid\": \"5ebdb6ccf02eeb2e38a465f2\"\n",
       "    },\n",
       "    \"filepath\": \"/path/to/img1.jpg\",\n",
       "    \"tags\": [\n",
       "        \"train\"\n",
       "    ],\n",
       "    \"metadata\": null\n",
       "}>"
      ]
     },
     "execution_count": 9,
     "metadata": {},
     "output_type": "execute_result"
    }
   ],
   "source": [
    "sample = view.first()\n",
    "sample"
   ]
  },
  {
   "cell_type": "markdown",
   "metadata": {},
   "source": [
    "Use `take()` to randomly sample the view."
   ]
  },
  {
   "cell_type": "code",
   "execution_count": 10,
   "metadata": {},
   "outputs": [
    {
     "name": "stdout",
     "output_type": "stream",
     "text": [
      "{\n",
      "    \"_id\": {\n",
      "        \"$oid\": \"5ebdb6ccf02eeb2e38a465f2\"\n",
      "    },\n",
      "    \"filepath\": \"/path/to/img1.jpg\",\n",
      "    \"tags\": [\n",
      "        \"train\"\n",
      "    ],\n",
      "    \"metadata\": null\n",
      "}\n",
      "{\n",
      "    \"_id\": {\n",
      "        \"$oid\": \"5ebdb6ccf02eeb2e38a465f4\"\n",
      "    },\n",
      "    \"filepath\": \"/path/to/img3.jpg\",\n",
      "    \"tags\": [\n",
      "        \"test\"\n",
      "    ],\n",
      "    \"metadata\": null\n",
      "}\n"
     ]
    }
   ],
   "source": [
    "for sample in view.take(2):\n",
    "    print(sample)"
   ]
  },
  {
   "cell_type": "markdown",
   "metadata": {},
   "source": [
    "### Sorting\n",
    "\n",
    "Samples can be sorted by any field or subfield"
   ]
  },
  {
   "cell_type": "code",
   "execution_count": 11,
   "metadata": {},
   "outputs": [
    {
     "name": "stdout",
     "output_type": "stream",
     "text": [
      "/path/to/img3.jpg\n",
      "/path/to/img2.jpg\n",
      "/path/to/img1.jpg\n",
      "\n",
      "1024\n",
      "\n",
      "['train']\n",
      "['train']\n",
      "['test']\n"
     ]
    }
   ],
   "source": [
    "for sample in view.sort_by(\"filepath\", reverse=True):\n",
    "    print(sample.filepath)\n",
    "print()\n",
    "\n",
    "for sample in view.sort_by(\"metadata.size_bytes\", reverse=True):\n",
    "    if sample.metadata:\n",
    "        print(sample.metadata.size_bytes)\n",
    "print()\n",
    "    \n",
    "for sample in view.sort_by(\"tags[0]\"):\n",
    "    print(sample.tags)"
   ]
  },
  {
   "cell_type": "markdown",
   "metadata": {},
   "source": [
    "### Selection"
   ]
  },
  {
   "cell_type": "markdown",
   "metadata": {},
   "source": [
    "#### Slicing\n",
    "\n",
    "Ranges of samples can be accessed using `skip()` and `limit()`"
   ]
  },
  {
   "cell_type": "code",
   "execution_count": 12,
   "metadata": {},
   "outputs": [
    {
     "data": {
      "text/plain": [
       "2"
      ]
     },
     "execution_count": 12,
     "metadata": {},
     "output_type": "execute_result"
    }
   ],
   "source": [
    "len(view.skip(1).limit(2))"
   ]
  },
  {
   "cell_type": "markdown",
   "metadata": {},
   "source": [
    "or equivalently using array slicing"
   ]
  },
  {
   "cell_type": "code",
   "execution_count": 13,
   "metadata": {},
   "outputs": [
    {
     "data": {
      "text/plain": [
       "2"
      ]
     },
     "execution_count": 13,
     "metadata": {},
     "output_type": "execute_result"
    }
   ],
   "source": [
    "len(view[1:3])"
   ]
  },
  {
   "cell_type": "markdown",
   "metadata": {},
   "source": [
    "#### Key Indexing\n",
    "\n",
    "Views are keyed same as datasets: by sample ID."
   ]
  },
  {
   "cell_type": "code",
   "execution_count": 14,
   "metadata": {},
   "outputs": [
    {
     "name": "stdout",
     "output_type": "stream",
     "text": [
      "sample_id: '5ebdb6ccf02eeb2e38a465f4'\n"
     ]
    },
    {
     "data": {
      "text/plain": [
       "<fiftyone_in_fifteen: {\n",
       "    \"_id\": {\n",
       "        \"$oid\": \"5ebdb6ccf02eeb2e38a465f4\"\n",
       "    },\n",
       "    \"filepath\": \"/path/to/img3.jpg\",\n",
       "    \"tags\": [\n",
       "        \"test\"\n",
       "    ],\n",
       "    \"metadata\": null\n",
       "}>"
      ]
     },
     "execution_count": 14,
     "metadata": {},
     "output_type": "execute_result"
    }
   ],
   "source": [
    "sample_id = sample.id\n",
    "print(\"sample_id: '%s'\" % sample_id)\n",
    "\n",
    "view[sample_id]"
   ]
  },
  {
   "cell_type": "markdown",
   "metadata": {},
   "source": [
    "Slicing only works if a `:` is provided."
   ]
  },
  {
   "cell_type": "code",
   "execution_count": 15,
   "metadata": {},
   "outputs": [
    {
     "name": "stdout",
     "output_type": "stream",
     "text": [
      "<class 'KeyError'>: 'Accessing samples by numeric index is not supported. Use sample IDs or slices'\n"
     ]
    }
   ],
   "source": [
    "try:\n",
    "    view[0]\n",
    "except Exception as e:\n",
    "    print(\"%s: %s\" % (type(e), e))"
   ]
  },
  {
   "cell_type": "markdown",
   "metadata": {},
   "source": [
    "### Querying\n",
    "\n",
    "The core query function is `match()`, which uses [MongoDB query syntax](https://docs.mongodb.com/manual/tutorial/query-documents/#read-operations-query-argument)"
   ]
  },
  {
   "cell_type": "code",
   "execution_count": 16,
   "metadata": {},
   "outputs": [
    {
     "name": "stdout",
     "output_type": "stream",
     "text": [
      "['train']\n",
      "['train']\n"
     ]
    }
   ],
   "source": [
    "for sample in view.match({\"tags\": \"train\"}):\n",
    "    print(sample.tags)"
   ]
  },
  {
   "cell_type": "markdown",
   "metadata": {},
   "source": [
    "Convenience functions are provided for common queries.\n",
    "\n",
    "We can `select()` or `exclude()` only the samples matching a list of IDs."
   ]
  },
  {
   "cell_type": "code",
   "execution_count": 17,
   "metadata": {},
   "outputs": [
    {
     "name": "stdout",
     "output_type": "stream",
     "text": [
      "sample_ids: ['5ebdb6ccf02eeb2e38a465f3']\n",
      "\n",
      "select:\n",
      " -  5ebdb6ccf02eeb2e38a465f3\n",
      "\n",
      "exclude:\n",
      " -  5ebdb6ccf02eeb2e38a465f2\n",
      " -  5ebdb6ccf02eeb2e38a465f4\n"
     ]
    }
   ],
   "source": [
    "sample_ids = [str(sample.id)]\n",
    "print(\"sample_ids: %s\" % sample_ids)\n",
    "print()\n",
    "\n",
    "print(\"select:\")\n",
    "for sample in view.select(sample_ids):\n",
    "    print(\" - \", sample.id)\n",
    "print()\n",
    "\n",
    "print(\"exclude:\")\n",
    "for sample in view.exclude(sample_ids):\n",
    "    print(\" - \", sample.id)"
   ]
  },
  {
   "cell_type": "markdown",
   "metadata": {},
   "source": [
    "Or check that a field and is not `None` with `exists()`"
   ]
  },
  {
   "cell_type": "code",
   "execution_count": 18,
   "metadata": {},
   "outputs": [
    {
     "name": "stdout",
     "output_type": "stream",
     "text": [
      "{\n",
      "    \"_cls\": \"Metadata\",\n",
      "    \"size_bytes\": 1024,\n",
      "    \"mime_type\": \".jpg\"\n",
      "}\n"
     ]
    }
   ],
   "source": [
    "for sample in view.exists(\"metadata\"):\n",
    "    print(sample.metadata)"
   ]
  },
  {
   "cell_type": "markdown",
   "metadata": {},
   "source": [
    "### Chaining `DatasetView` Operations\n",
    "\n",
    "The above operations on views return `DatasetView` instances. These operations can be chained in any arbitrary order."
   ]
  },
  {
   "cell_type": "code",
   "execution_count": 19,
   "metadata": {},
   "outputs": [
    {
     "data": {
      "text/plain": [
       "<fiftyone.core.view.DatasetView at 0x122945828>"
      ]
     },
     "execution_count": 19,
     "metadata": {},
     "output_type": "execute_result"
    }
   ],
   "source": [
    "very_complex_view = (\n",
    "    dataset.view()\n",
    "    .match({\"tags\": \"train\"})\n",
    "    .exists(\"file_hash\")\n",
    "    .sort_by(\"filepath\")[10:20]\n",
    "    .take(5)\n",
    ")\n",
    "very_complex_view"
   ]
  },
  {
   "cell_type": "code",
   "execution_count": 20,
   "metadata": {},
   "outputs": [
    {
     "name": "stdout",
     "output_type": "stream",
     "text": [
      "Dataset:        fiftyone_in_fifteen\n",
      "Num samples:    0\n",
      "Tags:           []\n",
      "Sample Fields:\n",
      "\tid      : <class 'mongoengine.base.fields.ObjectIdField'>\n",
      "\tfilepath: <class 'mongoengine.fields.StringField'>\n",
      "\ttags    : <class 'mongoengine.fields.ListField'>\n",
      "\tmetadata: <class 'mongoengine.fields.EmbeddedDocumentField'>\n",
      "Pipeline stages:\n",
      "\t1. {'$match': {'tags': 'train'}}\n",
      "\t2. {'$match': {'file_hash': {'$exists': True, '$ne': None}}}\n",
      "\t3. {'$sort': {'filepath': 1}}\n",
      "\t4. {'$skip': 10}\n",
      "\t5. {'$limit': 10}\n",
      "\t6. {'$sample': {'size': 5}}\n"
     ]
    }
   ],
   "source": [
    "print(very_complex_view.summary())"
   ]
  },
  {
   "cell_type": "markdown",
   "metadata": {},
   "source": [
    "## Modifying `Dataset`s (Inserting & Deleting Samples)\n",
    "\n",
    "At the moment the `kwargs` used to instantiate a sample must be passed to the dataset, which internally instantiates the sample. This is weird, I know I know. It's a TODO to make it less weird."
   ]
  },
  {
   "cell_type": "markdown",
   "metadata": {},
   "source": [
    "### Single add / delete"
   ]
  },
  {
   "cell_type": "code",
   "execution_count": 21,
   "metadata": {},
   "outputs": [
    {
     "data": {
      "text/plain": [
       "'5ebdb6cdf02eeb2e38a465f5'"
      ]
     },
     "execution_count": 21,
     "metadata": {},
     "output_type": "execute_result"
    }
   ],
   "source": [
    "sample_id = dataset.add_sample(filepath=\"new1.jpg\")\n",
    "sample_id"
   ]
  },
  {
   "cell_type": "markdown",
   "metadata": {},
   "source": [
    "A single sample can be deleted using the sample's ID"
   ]
  },
  {
   "cell_type": "code",
   "execution_count": 22,
   "metadata": {},
   "outputs": [
    {
     "name": "stdout",
     "output_type": "stream",
     "text": [
      "Attempting to access sample: '5ebdb6cdf02eeb2e38a465f5'\n",
      "<class 'ValueError'>: No sample found with ID '5ebdb6cdf02eeb2e38a465f5'\n"
     ]
    }
   ],
   "source": [
    "del dataset[sample_id]\n",
    "\n",
    "try:\n",
    "    print(\"Attempting to access sample: '%s'\" % sample_id)\n",
    "    sample = dataset[sample_id]\n",
    "except Exception as e:\n",
    "    print(\"%s: %s\" % (type(e), e))"
   ]
  },
  {
   "cell_type": "markdown",
   "metadata": {},
   "source": [
    "Samples can **NOT** be added to a view"
   ]
  },
  {
   "cell_type": "code",
   "execution_count": 23,
   "metadata": {},
   "outputs": [
    {
     "name": "stdout",
     "output_type": "stream",
     "text": [
      "<class 'AttributeError'>: 'DatasetView' object has no attribute 'add_sample'\n"
     ]
    }
   ],
   "source": [
    "try:\n",
    "    view.add_sample(filepath=\"new1.jpg\")\n",
    "except Exception as e:\n",
    "    print(\"%s: %s\" % (type(e), e))"
   ]
  },
  {
   "cell_type": "markdown",
   "metadata": {},
   "source": [
    "### Batch add / delete"
   ]
  },
  {
   "cell_type": "markdown",
   "metadata": {},
   "source": [
    "To add a batch of samples, pass a list of `kwargs` `dict`s for each sample to add."
   ]
  },
  {
   "cell_type": "code",
   "execution_count": 24,
   "metadata": {},
   "outputs": [
    {
     "data": {
      "text/plain": [
       "['5ebdb6cdf02eeb2e38a465f6',\n",
       " '5ebdb6cdf02eeb2e38a465f7',\n",
       " '5ebdb6cdf02eeb2e38a465f8',\n",
       " '5ebdb6cdf02eeb2e38a465f9']"
      ]
     },
     "execution_count": 24,
     "metadata": {},
     "output_type": "execute_result"
    }
   ],
   "source": [
    "sample_ids = dataset.add_samples(\n",
    "    [\n",
    "        {\"filepath\": \"new_batch1.jpg\"},\n",
    "        {\"filepath\": \"new_batch2.jpg\"},\n",
    "        {\"filepath\": \"new_batch3.jpg\"},\n",
    "        {\"filepath\": \"new_batch4.jpg\"},\n",
    "    ]\n",
    ")\n",
    "sample_ids"
   ]
  },
  {
   "cell_type": "markdown",
   "metadata": {},
   "source": [
    "All samples in a view can be deleted from the dataset"
   ]
  },
  {
   "cell_type": "code",
   "execution_count": 25,
   "metadata": {},
   "outputs": [
    {
     "name": "stdout",
     "output_type": "stream",
     "text": [
      "Length before: 4\n",
      "Length after: 4\n"
     ]
    }
   ],
   "source": [
    "view = dataset.view().select(sample_ids)\n",
    "\n",
    "print(\"Length before: %d\" % len(dataset))\n",
    "# @todo(Tyler) merge Brian's work\n",
    "# dataset.delete_samples(view)\n",
    "print(\"Length after: %d\" % len(dataset))"
   ]
  },
  {
   "cell_type": "markdown",
   "metadata": {},
   "source": [
    "## Operations (Aggregations)\n",
    "\n",
    "Powerful custom aggregations are available via the [MongoDB aggregation API](https://docs.mongodb.com/manual/reference/operator/aggregation-pipeline/).\n"
   ]
  },
  {
   "cell_type": "code",
   "execution_count": 26,
   "metadata": {},
   "outputs": [
    {
     "data": {
      "text/plain": [
       "<pymongo.command_cursor.CommandCursor at 0x122960ef0>"
      ]
     },
     "execution_count": 26,
     "metadata": {},
     "output_type": "execute_result"
    }
   ],
   "source": [
    "pipeline = [\n",
    "    # deconstruct the `tags` array field of the samples to output a sample for each tag\n",
    "    {\"$unwind\": \"$tags\"},\n",
    "    # group by `tags` and count the number of instances for each\n",
    "    {\"$group\": {\"_id\": \"$tags\", \"count\": {\"$sum\": 1}}},\n",
    "]\n",
    "\n",
    "aggregation = dataset.view().aggregate(pipeline)\n",
    "aggregation"
   ]
  },
  {
   "cell_type": "code",
   "execution_count": 27,
   "metadata": {},
   "outputs": [],
   "source": [
    "for d in aggregation:\n",
    "    # d is a dictionary whos structure depends on the aggregation pipeline\n",
    "    print(d)"
   ]
  },
  {
   "cell_type": "markdown",
   "metadata": {},
   "source": [
    "## Fields of Samples"
   ]
  },
  {
   "cell_type": "markdown",
   "metadata": {},
   "source": [
    "### Default Fields\n",
    "\n",
    "Some fields are automatically available on all samples."
   ]
  },
  {
   "cell_type": "code",
   "execution_count": 28,
   "metadata": {},
   "outputs": [
    {
     "data": {
      "text/plain": [
       "ObjectId('5ebdb6ccf02eeb2e38a465f3')"
      ]
     },
     "execution_count": 28,
     "metadata": {},
     "output_type": "execute_result"
    }
   ],
   "source": [
    "sample.id"
   ]
  },
  {
   "cell_type": "code",
   "execution_count": 29,
   "metadata": {},
   "outputs": [
    {
     "data": {
      "text/plain": [
       "'/path/to/img2.jpg'"
      ]
     },
     "execution_count": 29,
     "metadata": {},
     "output_type": "execute_result"
    }
   ],
   "source": [
    "sample.filepath"
   ]
  },
  {
   "cell_type": "code",
   "execution_count": 30,
   "metadata": {},
   "outputs": [
    {
     "data": {
      "text/plain": [
       "['train']"
      ]
     },
     "execution_count": 30,
     "metadata": {},
     "output_type": "execute_result"
    }
   ],
   "source": [
    "sample.tags"
   ]
  },
  {
   "cell_type": "code",
   "execution_count": 31,
   "metadata": {},
   "outputs": [
    {
     "data": {
      "text/plain": [
       "<Metadata: {\n",
       "    \"_cls\": \"Metadata\",\n",
       "    \"size_bytes\": 1024,\n",
       "    \"mime_type\": \".jpg\"\n",
       "}>"
      ]
     },
     "execution_count": 31,
     "metadata": {},
     "output_type": "execute_result"
    }
   ],
   "source": [
    "sample.metadata"
   ]
  },
  {
   "cell_type": "markdown",
   "metadata": {},
   "source": [
    "### Dynamically adding fields\n",
    "\n",
    "Fields can also be dynamically added to a dataset. We can check what fields exist on a dataset at any time via `dataset.get_sample_fields()`"
   ]
  },
  {
   "cell_type": "code",
   "execution_count": 32,
   "metadata": {},
   "outputs": [
    {
     "data": {
      "text/plain": [
       "OrderedDict([('id', <mongoengine.base.fields.ObjectIdField at 0x10e84ffd0>),\n",
       "             ('filepath', <mongoengine.fields.StringField at 0x11a8e64e0>),\n",
       "             ('tags', <mongoengine.fields.ListField at 0x11a8e6588>),\n",
       "             ('metadata',\n",
       "              <mongoengine.fields.EmbeddedDocumentField at 0x11a8e6780>)])"
      ]
     },
     "execution_count": 32,
     "metadata": {},
     "output_type": "execute_result"
    }
   ],
   "source": [
    "dataset.get_sample_fields()"
   ]
  },
  {
   "cell_type": "markdown",
   "metadata": {},
   "source": [
    "Fields MUST be assigned via index assignment, but they may be accessed via indexing or object attributes"
   ]
  },
  {
   "cell_type": "code",
   "execution_count": 33,
   "metadata": {},
   "outputs": [
    {
     "name": "stdout",
     "output_type": "stream",
     "text": [
      "True\n",
      "True\n"
     ]
    }
   ],
   "source": [
    "sample[\"my_boolean\"] = True\n",
    "\n",
    "# equivalent:\n",
    "print(sample[\"my_boolean\"])\n",
    "print(sample.my_boolean)"
   ]
  },
  {
   "cell_type": "code",
   "execution_count": 34,
   "metadata": {},
   "outputs": [
    {
     "data": {
      "text/plain": [
       "51"
      ]
     },
     "execution_count": 34,
     "metadata": {},
     "output_type": "execute_result"
    }
   ],
   "source": [
    "sample[\"my_int\"] = 51\n",
    "sample.my_int"
   ]
  },
  {
   "cell_type": "code",
   "execution_count": 35,
   "metadata": {},
   "outputs": [
    {
     "data": {
      "text/plain": [
       "'fiftyone'"
      ]
     },
     "execution_count": 35,
     "metadata": {},
     "output_type": "execute_result"
    }
   ],
   "source": [
    "sample[\"my_string\"] = \"fiftyone\"\n",
    "sample.my_string"
   ]
  },
  {
   "cell_type": "code",
   "execution_count": 36,
   "metadata": {},
   "outputs": [
    {
     "data": {
      "text/plain": [
       "['fifty', 'one']"
      ]
     },
     "execution_count": 36,
     "metadata": {},
     "output_type": "execute_result"
    }
   ],
   "source": [
    "sample[\"my_list\"] = [\"fifty\", \"one\"]\n",
    "sample.my_list"
   ]
  },
  {
   "cell_type": "code",
   "execution_count": 37,
   "metadata": {},
   "outputs": [
    {
     "data": {
      "text/plain": [
       "{'fifty': 50, 'one': 'uno'}"
      ]
     },
     "execution_count": 37,
     "metadata": {},
     "output_type": "execute_result"
    }
   ],
   "source": [
    "sample[\"my_dict\"] = {\"fifty\": 50, \"one\": \"uno\"}\n",
    "sample.my_dict"
   ]
  },
  {
   "cell_type": "code",
   "execution_count": 38,
   "metadata": {},
   "outputs": [
    {
     "data": {
      "text/plain": [
       "<Classification: {\n",
       "    \"label\": \"cow\",\n",
       "    \"confidence\": 0.98,\n",
       "    \"logits\": null\n",
       "}>"
      ]
     },
     "execution_count": 38,
     "metadata": {},
     "output_type": "execute_result"
    }
   ],
   "source": [
    "sample[\"my_label\"] = fo.Classification(label=\"cow\", confidence=0.98)\n",
    "sample.my_label"
   ]
  },
  {
   "cell_type": "markdown",
   "metadata": {},
   "source": [
    "The `OrderedDict` returned by `get_sample_fields()` tracks the order in which fields were added to the dataset."
   ]
  },
  {
   "cell_type": "code",
   "execution_count": 39,
   "metadata": {},
   "outputs": [
    {
     "data": {
      "text/plain": [
       "OrderedDict([('id', <mongoengine.base.fields.ObjectIdField at 0x10e84ffd0>),\n",
       "             ('filepath', <mongoengine.fields.StringField at 0x11a8e64e0>),\n",
       "             ('tags', <mongoengine.fields.ListField at 0x11a8e6588>),\n",
       "             ('metadata',\n",
       "              <mongoengine.fields.EmbeddedDocumentField at 0x11a8e6780>),\n",
       "             ('my_boolean', <mongoengine.fields.BooleanField at 0x12295b940>),\n",
       "             ('my_int', <mongoengine.fields.IntField at 0x12295be48>),\n",
       "             ('my_string', <mongoengine.fields.StringField at 0x122960208>),\n",
       "             ('my_list', <mongoengine.fields.ListField at 0x122960240>),\n",
       "             ('my_dict', <mongoengine.fields.DictField at 0x122960908>),\n",
       "             ('my_label',\n",
       "              <mongoengine.fields.EmbeddedDocumentField at 0x122960a20>)])"
      ]
     },
     "execution_count": 39,
     "metadata": {},
     "output_type": "execute_result"
    }
   ],
   "source": [
    "dataset.get_sample_fields()"
   ]
  },
  {
   "cell_type": "markdown",
   "metadata": {},
   "source": [
    "Setting a field to an inappropriate type raises a `ValidationError`."
   ]
  },
  {
   "cell_type": "code",
   "execution_count": 40,
   "metadata": {},
   "outputs": [
    {
     "name": "stdout",
     "output_type": "stream",
     "text": [
      "<class 'mongoengine.errors.ValidationError'>: Only lists and tuples may be used in a list field\n"
     ]
    }
   ],
   "source": [
    "try:\n",
    "    sample.my_list = 15\n",
    "except Exception as e:\n",
    "    print(\"%s: %s\" % (type(e), e))"
   ]
  },
  {
   "cell_type": "markdown",
   "metadata": {},
   "source": [
    "However, a field can be entirely deleted from a dataset, afterwhich it can be set again to different field type."
   ]
  },
  {
   "cell_type": "code",
   "execution_count": 41,
   "metadata": {},
   "outputs": [
    {
     "data": {
      "text/plain": [
       "OrderedDict([('id', <mongoengine.base.fields.ObjectIdField at 0x10e84ffd0>),\n",
       "             ('filepath', <mongoengine.fields.StringField at 0x11a8e64e0>),\n",
       "             ('tags', <mongoengine.fields.ListField at 0x11a8e6588>),\n",
       "             ('metadata',\n",
       "              <mongoengine.fields.EmbeddedDocumentField at 0x11a8e6780>),\n",
       "             ('my_boolean', <mongoengine.fields.BooleanField at 0x12295b940>),\n",
       "             ('my_int', <mongoengine.fields.IntField at 0x12295be48>),\n",
       "             ('my_string', <mongoengine.fields.StringField at 0x122960208>),\n",
       "             ('my_list', <mongoengine.fields.ListField at 0x122960240>),\n",
       "             ('my_dict', <mongoengine.fields.DictField at 0x122960908>),\n",
       "             ('my_label',\n",
       "              <mongoengine.fields.EmbeddedDocumentField at 0x122960a20>)])"
      ]
     },
     "execution_count": 41,
     "metadata": {},
     "output_type": "execute_result"
    }
   ],
   "source": [
    "# @todo(Tyler) implement `delete_field`!\n",
    "# dataset.delete_field(\"my_list\")\n",
    "\n",
    "# sample[\"my_list\"] = 15\n",
    "\n",
    "dataset.get_sample_fields()"
   ]
  }
 ],
 "metadata": {
  "kernelspec": {
   "display_name": "fiftyone",
   "language": "python",
   "name": "fiftyone"
  },
  "language_info": {
   "codemirror_mode": {
    "name": "ipython",
    "version": 3
   },
   "file_extension": ".py",
   "mimetype": "text/x-python",
   "name": "python",
   "nbconvert_exporter": "python",
   "pygments_lexer": "ipython3",
   "version": "3.6.9"
  }
 },
 "nbformat": 4,
 "nbformat_minor": 4
}
